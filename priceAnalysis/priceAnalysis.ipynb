{
 "cells": [
  {
   "cell_type": "code",
   "execution_count": 13,
   "metadata": {},
   "outputs": [],
   "source": [
    "import json"
   ]
  },
  {
   "cell_type": "code",
   "execution_count": 14,
   "metadata": {},
   "outputs": [],
   "source": [
    "class Product:\n",
    "    def __init__(self,id,SKU,productName,productPrice,tags) -> None:\n",
    "        self.id=id\n",
    "        self.SKU=SKU\n",
    "        self.productName=productName\n",
    "        self.productPrice= productPrice\n",
    "        self.tags=set(tags)\n",
    "        \n",
    "    @property\n",
    "    def tags_value(self):\n",
    "        if not self.tags:\n",
    "            return \"\"\n",
    "        return \",\".join(['#' + tag for tag in self.tags])\n",
    "            "
   ]
  },
  {
   "cell_type": "code",
   "execution_count": 15,
   "metadata": {},
   "outputs": [
    {
     "name": "stdout",
     "output_type": "stream",
     "text": [
      "#tag1,#tag2\n"
     ]
    }
   ],
   "source": [
    "product1 = Product(1, \"SKU001\", \"Product 1\", 10.99, [\"tag1\", \"tag2\"])\n",
    "print(product1.tags_value)"
   ]
  },
  {
   "cell_type": "markdown",
   "metadata": {},
   "source": [
    "### 結帳流程\n",
    "1. 先把產品都load進來\n",
    "   1. 描述商品資訊 (包含品名、標籤及售價)\n",
    "2. 進行checkout的動作\n",
    "   1. 進行中的折扣計算\n",
    "3. 結帳的收據明細顯示"
   ]
  },
  {
   "cell_type": "code",
   "execution_count": 30,
   "metadata": {},
   "outputs": [],
   "source": [
    "def productLoader():\n",
    "    productsList=[]\n",
    "    with open (\"./products.json\") as f:\n",
    "        products_data = json.load(f)\n",
    "    for item in products_data:\n",
    "        productsList.append(Product(item[\"id\"],item['sku'],item[\"name\"],item[\"price\"],item[\"tags\"]))\n",
    "    return productsList\n",
    "\n",
    "###############計算價格##################################\n",
    "def checkout_process(products):\n",
    "    amount = sum(product.productPrice for product in products)\n",
    "    return amount"
   ]
  },
  {
   "cell_type": "code",
   "execution_count": 32,
   "metadata": {},
   "outputs": [],
   "source": [
    "def mainProcess():\n",
    "    #step1:\n",
    "    products=productLoader()\n",
    "    #step2:\n",
    "    total=checkout_process(products)\n",
    "    #step3:\n",
    "    print(f\"總價:${total:.2f}\")"
   ]
  },
  {
   "cell_type": "markdown",
   "metadata": {},
   "source": []
  },
  {
   "cell_type": "code",
   "execution_count": 33,
   "metadata": {},
   "outputs": [
    {
     "name": "stdout",
     "output_type": "stream",
     "text": [
      "總價:$70.00\n"
     ]
    }
   ],
   "source": [
    "mainProcess()"
   ]
  },
  {
   "cell_type": "code",
   "execution_count": null,
   "metadata": {},
   "outputs": [],
   "source": []
  }
 ],
 "metadata": {
  "kernelspec": {
   "display_name": "forPractice",
   "language": "python",
   "name": "python3"
  },
  "language_info": {
   "codemirror_mode": {
    "name": "ipython",
    "version": 3
   },
   "file_extension": ".py",
   "mimetype": "text/x-python",
   "name": "python",
   "nbconvert_exporter": "python",
   "pygments_lexer": "ipython3",
   "version": "3.7.10"
  }
 },
 "nbformat": 4,
 "nbformat_minor": 2
}
