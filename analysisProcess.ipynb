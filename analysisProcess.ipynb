{
 "cells": [
  {
   "cell_type": "code",
   "execution_count": 38,
   "metadata": {},
   "outputs": [
    {
     "name": "stdout",
     "output_type": "stream",
     "text": [
      "Collecting pulp\n",
      "  Downloading PuLP-2.8.0-py3-none-any.whl (17.7 MB)\n",
      "\u001b[2K     \u001b[38;2;114;156;31m━━━━━━━━━━━━━━━━━━━━━━━━━━━━━━━━━━━━━━━━\u001b[0m \u001b[32m17.7/17.7 MB\u001b[0m \u001b[31m5.8 MB/s\u001b[0m eta \u001b[36m0:00:00\u001b[0mm eta \u001b[36m0:00:01\u001b[0m[36m0:00:01\u001b[0m\n",
      "\u001b[?25hInstalling collected packages: pulp\n",
      "Successfully installed pulp-2.8.0\n",
      "\n",
      "\u001b[1m[\u001b[0m\u001b[34;49mnotice\u001b[0m\u001b[1;39;49m]\u001b[0m\u001b[39;49m A new release of pip is available: \u001b[0m\u001b[31;49m23.1.2\u001b[0m\u001b[39;49m -> \u001b[0m\u001b[32;49m23.3.2\u001b[0m\n",
      "\u001b[1m[\u001b[0m\u001b[34;49mnotice\u001b[0m\u001b[1;39;49m]\u001b[0m\u001b[39;49m To update, run: \u001b[0m\u001b[32;49mpip install --upgrade pip\u001b[0m\n",
      "Note: you may need to restart the kernel to use updated packages.\n"
     ]
    }
   ],
   "source": [
    "%pip install pulp\n"
   ]
  },
  {
   "cell_type": "code",
   "execution_count": 41,
   "metadata": {},
   "outputs": [],
   "source": [
    "import pulp\n",
    "\n",
    "#目标函数z的系数\n",
    "z = [-1,2,-3]\n",
    "\n",
    "#不等式约束条件，也要转化为 ≤的形式\n",
    "A_ub = [[1, 1, 1], [-1, 1, -1]]\n",
    "b_ub = [7, -2]\n",
    "\n",
    "#等式约束条件\n",
    "A_eq = [[-3,1,2]]\n",
    "b_eq = [5]"
   ]
  },
  {
   "cell_type": "code",
   "execution_count": 43,
   "metadata": {},
   "outputs": [
    {
     "name": "stdout",
     "output_type": "stream",
     "text": [
      "z: -17.400000000000002\n",
      "x1: 1.8\n",
      "x2: 0.0\n",
      "x3: 5.2\n"
     ]
    }
   ],
   "source": [
    "#首先，定义一个问题，第一个参数为问题名称，\n",
    "#第二个参数sense，可决定优化的是最大值 pulp.LpMaximize 还是最小值 pulp.LpMinimize\n",
    "prob = pulp.LpProblem('problem2', sense=pulp.LpMinimize)\n",
    "\n",
    "#第二，定义变量，pulp.LpVariable(\"变量名\" ,下界 ,上界, cat表示变量类型，\n",
    "# pulp.LpInteger是离散，pulp.LpBinary为二值，pulp.LpContinuous是连续 )\n",
    "x1 = pulp.LpVariable('x1', lowBound=0, upBound=None, cat=pulp.LpContinuous)\n",
    "x2 = pulp.LpVariable('x2', lowBound=0, upBound=None, cat=pulp.LpContinuous)\n",
    "x3 = pulp.LpVariable('x3', lowBound=None, upBound=None, cat=pulp.LpContinuous)\n",
    "x = [x1,x2,x3]\n",
    "\n",
    "#然后，添加目标函数\n",
    "prob += pulp.lpDot(z, x) \n",
    "\n",
    "#再添加不等式约束条件(让问题 prob 直接加变量的判断式即可添加约束)\n",
    "for i in range(len(A_ub)):\n",
    "    prob += (pulp.lpDot(A_ub[i], x) <= b_ub[i])\n",
    "\n",
    "#再添加等式约束条件(让问题 prob 直接加变量的判断式即可添加约束)\n",
    "for i in range(len(A_eq)):\n",
    "    prob += (pulp.lpDot(A_eq[i], x) == b_eq[i])\n",
    "    \n",
    "#调用solve方法解出答案\n",
    "prob.solve()\n",
    "\n",
    "#\n",
    "print(\"z:\", pulp.value(prob.objective))\n",
    "print(\"x1:\",pulp.value(x1))\n",
    "print(\"x2:\",pulp.value(x2))\n",
    "print(\"x3:\",pulp.value(x3))\n"
   ]
  },
  {
   "cell_type": "code",
   "execution_count": null,
   "metadata": {},
   "outputs": [],
   "source": [
    "# "
   ]
  },
  {
   "cell_type": "markdown",
   "metadata": {},
   "source": [
    "## 藥局訂貨物流線性規劃問題\n",
    "物流有A,B兩家，分別有藥品X,Y,Z 3種,A,B兩家皆有最低出貨金額分別為1000,3000，藥品價格<br>\n",
    "|   | A | B  |\n",
    "|---| --- | --- |\n",
    "|X| 2 | 1 |\n",
    "|Y| 4 | 2 |\n",
    "|Z| 10|11 |"
   ]
  },
  {
   "cell_type": "markdown",
   "metadata": {},
   "source": [
    "$$\n",
    "\\left\\{\n",
    "\\begin{align*}\n",
    "X_A + X_B  < 100 \\\\\n",
    "Y_A + Y_B  < 200 \\\\\n",
    "Z_A+Z_B<500\\\\\n",
    "2X_A + 4Y_A+10Z_A  > 1000\\\\\n",
    "X_B + 2Y_B+11Z_B  > 3000\\\\\n",
    "\\end{align*}\n",
    "\\right.\n",
    "$$\n",
    "\n",
    "$$\n",
    "min(2X_A+X_B+4Y_A+2Y_B+10Z_A+11Z_B)\n",
    "$$"
   ]
  },
  {
   "cell_type": "code",
   "execution_count": 71,
   "metadata": {},
   "outputs": [],
   "source": [
    "#目標函數target的係數\n",
    "target = [2,1,4,2,10,11]\n",
    "\n",
    "#不等式限制條件，也要轉化為 ≤的形式\n",
    "A_ub = [[1,1,0,0,0,0],\n",
    "        [0,0,1,1,0,0],\n",
    "        [0,0,0,0,1,1],\n",
    "        [-2,0,-4,0,-10,0],\n",
    "        [2,0,4,0,10,0],\n",
    "        [0,-1,0,-2,0,-11],\n",
    "        [0,1,0,2,0,11],\n",
    "        [2,1,4,2,10,11]\n",
    "\n",
    "        ]\n",
    "b_ub = [100,200,500,-1000,2000,-3000,3500,3500]\n",
    "\n",
    "# #等式约束条件\n",
    "# A_eq = [[-3,1,2]]\n",
    "# b_eq = [5]"
   ]
  },
  {
   "cell_type": "markdown",
   "metadata": {},
   "source": []
  },
  {
   "cell_type": "code",
   "execution_count": 73,
   "metadata": {},
   "outputs": [
    {
     "name": "stdout",
     "output_type": "stream",
     "text": [
      "target: 4000.0\n",
      "x_A: 10.0\n",
      "x_B: 10.0\n",
      "y_A: 220.0\n",
      "y_B: 10.0\n",
      "z_A: 10.0\n",
      "z_B: 270.0\n"
     ]
    }
   ],
   "source": [
    "#首先，定义一个问题，第一个参数为问题名称，\n",
    "#第二个参数sense，可决定优化的是最大值 pulp.LpMaximize 还是最小值 pulp.LpMinimize\n",
    "model = pulp.LpProblem('problem2', sense=pulp.LpMinimize)\n",
    "\n",
    "#第二，定义变量，pulp.LpVariable(\"变量名\" ,下界 ,上界, cat表示变量类型，\n",
    "# pulp.LpInteger是离散，pulp.LpBinary为二值，pulp.LpContinuous是连续 )\n",
    "x_A = pulp.LpVariable('x_A', lowBound=10, upBound=None, cat=pulp.LpInteger)\n",
    "x_B = pulp.LpVariable('x_B', lowBound=10, upBound=None, cat=pulp.LpInteger)\n",
    "y_A = pulp.LpVariable('y_A', lowBound=10, upBound=None, cat=pulp.LpInteger)\n",
    "y_B = pulp.LpVariable('y_B', lowBound=10, upBound=None, cat=pulp.LpInteger)\n",
    "z_A = pulp.LpVariable('z_A', lowBound=10, upBound=None, cat=pulp.LpInteger)\n",
    "z_B = pulp.LpVariable('z_B', lowBound=10, upBound=None, cat=pulp.LpInteger)\n",
    "variable = [x_A,x_B,y_A,y_B,z_A,z_B]\n",
    "\n",
    "#然后，添加目标函数\n",
    "model += pulp.lpDot(target, variable) \n",
    "\n",
    "#再添加不等式约束条件(让问题 prob 直接加变量的判断式即可添加约束)\n",
    "for i in range(len(A_ub)):\n",
    "    model += (pulp.lpDot(A_ub[i], variable) <= b_ub[i])\n",
    "\n",
    "# #再添加等式约束条件(让问题 prob 直接加变量的判断式即可添加约束)\n",
    "# for i in range(len(A_eq)):\n",
    "#     prob += (pulp.lpDot(A_eq[i], variable) == b_eq[i])\n",
    "    \n",
    "#调用solve方法解出答案\n",
    "model.solve()\n",
    "\n",
    "#\n",
    "print(\"target:\", pulp.value(model.objective))\n",
    "print(\"x_A:\",pulp.value(x_A))\n",
    "print(\"x_B:\",pulp.value(x_B))\n",
    "print(\"y_A:\",pulp.value(y_A))\n",
    "print(\"y_B:\",pulp.value(y_B))\n",
    "print(\"z_A:\",pulp.value(z_A))\n",
    "print(\"z_B:\",pulp.value(z_B))"
   ]
  },
  {
   "cell_type": "code",
   "execution_count": 60,
   "metadata": {},
   "outputs": [
    {
     "data": {
      "text/plain": [
       "0.0"
      ]
     },
     "execution_count": 60,
     "metadata": {},
     "output_type": "execute_result"
    }
   ],
   "source": [
    "x_A.value()"
   ]
  },
  {
   "cell_type": "code",
   "execution_count": 64,
   "metadata": {},
   "outputs": [
    {
     "data": {
      "text/plain": [
       "4000"
      ]
     },
     "execution_count": 64,
     "metadata": {},
     "output_type": "execute_result"
    }
   ],
   "source": [
    "195*4+2*4+10*22+11*272"
   ]
  },
  {
   "cell_type": "code",
   "execution_count": null,
   "metadata": {},
   "outputs": [],
   "source": []
  }
 ],
 "metadata": {
  "kernelspec": {
   "display_name": "forPractice",
   "language": "python",
   "name": "python3"
  },
  "language_info": {
   "codemirror_mode": {
    "name": "ipython",
    "version": 3
   },
   "file_extension": ".py",
   "mimetype": "text/x-python",
   "name": "python",
   "nbconvert_exporter": "python",
   "pygments_lexer": "ipython3",
   "version": "3.7.10"
  }
 },
 "nbformat": 4,
 "nbformat_minor": 2
}
