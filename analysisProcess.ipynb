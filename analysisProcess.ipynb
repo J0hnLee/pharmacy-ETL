{
 "cells": [
  {
   "cell_type": "code",
   "execution_count": 2,
   "metadata": {},
   "outputs": [
    {
     "name": "stdout",
     "output_type": "stream",
     "text": [
      "Collecting pulp\n",
      "  Downloading PuLP-2.8.0-py3-none-any.whl (17.7 MB)\n",
      "     ---------------------------------------- 0.0/17.7 MB ? eta -:--:--\n",
      "     ---------------------------------------- 0.0/17.7 MB 1.4 MB/s eta 0:00:13\n",
      "     --------------------------------------- 0.1/17.7 MB 871.5 kB/s eta 0:00:21\n",
      "     ---------------------------------------- 0.2/17.7 MB 1.2 MB/s eta 0:00:15\n",
      "      --------------------------------------- 0.3/17.7 MB 1.3 MB/s eta 0:00:14\n",
      "      --------------------------------------- 0.4/17.7 MB 1.6 MB/s eta 0:00:11\n",
      "     - -------------------------------------- 0.5/17.7 MB 1.9 MB/s eta 0:00:10\n",
      "     - -------------------------------------- 0.8/17.7 MB 2.4 MB/s eta 0:00:08\n",
      "     -- ------------------------------------- 1.2/17.7 MB 3.3 MB/s eta 0:00:06\n",
      "     -- ------------------------------------- 1.2/17.7 MB 3.3 MB/s eta 0:00:06\n",
      "     --- ------------------------------------ 1.6/17.7 MB 3.4 MB/s eta 0:00:05\n",
      "     ---- ----------------------------------- 2.1/17.7 MB 4.2 MB/s eta 0:00:04\n",
      "     ---- ----------------------------------- 2.1/17.7 MB 3.7 MB/s eta 0:00:05\n",
      "     -------- ------------------------------- 3.8/17.7 MB 6.3 MB/s eta 0:00:03\n",
      "     --------- ------------------------------ 4.3/17.7 MB 6.6 MB/s eta 0:00:03\n",
      "     ---------- ----------------------------- 4.7/17.7 MB 6.8 MB/s eta 0:00:02\n",
      "     ----------- ---------------------------- 5.1/17.7 MB 6.9 MB/s eta 0:00:02\n",
      "     ------------ --------------------------- 5.5/17.7 MB 7.1 MB/s eta 0:00:02\n",
      "     ------------- -------------------------- 6.0/17.7 MB 7.2 MB/s eta 0:00:02\n",
      "     -------------- ------------------------- 6.4/17.7 MB 7.3 MB/s eta 0:00:02\n",
      "     --------------- ------------------------ 6.8/17.7 MB 7.4 MB/s eta 0:00:02\n",
      "     ---------------- ----------------------- 7.2/17.7 MB 7.4 MB/s eta 0:00:02\n",
      "     ----------------- ---------------------- 7.6/17.7 MB 7.5 MB/s eta 0:00:02\n",
      "     ------------------ --------------------- 8.0/17.7 MB 7.5 MB/s eta 0:00:02\n",
      "     ------------------- -------------------- 8.5/17.7 MB 7.6 MB/s eta 0:00:02\n",
      "     -------------------- ------------------- 8.9/17.7 MB 7.7 MB/s eta 0:00:02\n",
      "     --------------------- ------------------ 9.3/17.7 MB 7.8 MB/s eta 0:00:02\n",
      "     ---------------------- ----------------- 9.7/17.7 MB 7.8 MB/s eta 0:00:02\n",
      "     ----------------------- ---------------- 10.2/17.7 MB 7.8 MB/s eta 0:00:01\n",
      "     ----------------------- ---------------- 10.4/17.7 MB 8.7 MB/s eta 0:00:01\n",
      "     ----------------------- ---------------- 10.4/17.7 MB 8.3 MB/s eta 0:00:01\n",
      "     ------------------------ --------------- 10.8/17.7 MB 9.0 MB/s eta 0:00:01\n",
      "     ------------------------- -------------- 11.2/17.7 MB 9.1 MB/s eta 0:00:01\n",
      "     -------------------------- ------------- 11.6/17.7 MB 9.5 MB/s eta 0:00:01\n",
      "     --------------------------- ------------ 12.1/17.7 MB 9.5 MB/s eta 0:00:01\n",
      "     ---------------------------- ----------- 12.5/17.7 MB 9.8 MB/s eta 0:00:01\n",
      "     ----------------------------- ---------- 13.0/17.7 MB 9.4 MB/s eta 0:00:01\n",
      "     ------------------------------ --------- 13.4/17.7 MB 9.1 MB/s eta 0:00:01\n",
      "     ------------------------------- -------- 13.9/17.7 MB 8.8 MB/s eta 0:00:01\n",
      "     -------------------------------- ------- 14.3/17.7 MB 8.7 MB/s eta 0:00:01\n",
      "     --------------------------------- ------ 14.8/17.7 MB 8.7 MB/s eta 0:00:01\n",
      "     ---------------------------------- ----- 15.2/17.7 MB 8.8 MB/s eta 0:00:01\n",
      "     ----------------------------------- ---- 15.7/17.7 MB 8.8 MB/s eta 0:00:01\n",
      "     ------------------------------------ --- 16.2/17.7 MB 8.8 MB/s eta 0:00:01\n",
      "     ------------------------------------- -- 16.6/17.7 MB 9.0 MB/s eta 0:00:01\n",
      "     -------------------------------------- - 17.1/17.7 MB 9.0 MB/s eta 0:00:01\n",
      "     ---------------------------------------  17.6/17.7 MB 9.0 MB/s eta 0:00:01\n",
      "     ---------------------------------------- 17.7/17.7 MB 8.7 MB/s eta 0:00:00\n",
      "Installing collected packages: pulp\n",
      "Successfully installed pulp-2.8.0\n",
      "Note: you may need to restart the kernel to use updated packages.\n"
     ]
    },
    {
     "name": "stderr",
     "output_type": "stream",
     "text": [
      "\n",
      "[notice] A new release of pip is available: 23.0.1 -> 23.3.2\n",
      "[notice] To update, run: python.exe -m pip install --upgrade pip\n"
     ]
    }
   ],
   "source": [
    "%pip install pulp\n"
   ]
  },
  {
   "cell_type": "code",
   "execution_count": 12,
   "metadata": {},
   "outputs": [],
   "source": [
    "import pulp\n",
    "\n",
    "#目标函数z的系数\n",
    "z = [-1,2,-3]\n",
    "\n",
    "#不等式约束条件，也要转化为 ≤的形式\n",
    "A_ub = [[1, 1, 1], [-1, 1, -1]]\n",
    "b_ub = [7, -2]\n",
    "\n",
    "#等式约束条件\n",
    "A_eq = [[-3,1,2]]\n",
    "b_eq = [5]"
   ]
  },
  {
   "cell_type": "code",
   "execution_count": 43,
   "metadata": {},
   "outputs": [
    {
     "name": "stdout",
     "output_type": "stream",
     "text": [
      "z: -17.400000000000002\n",
      "x1: 1.8\n",
      "x2: 0.0\n",
      "x3: 5.2\n"
     ]
    }
   ],
   "source": [
    "#首先，定义一个问题，第一个参数为问题名称，\n",
    "#第二个参数sense，可决定优化的是最大值 pulp.LpMaximize 还是最小值 pulp.LpMinimize\n",
    "prob = pulp.LpProblem('problem2', sense=pulp.LpMinimize)\n",
    "\n",
    "#第二，定义变量，pulp.LpVariable(\"变量名\" ,下界 ,上界, cat表示变量类型，\n",
    "# pulp.LpInteger是离散，pulp.LpBinary为二值，pulp.LpContinuous是连续 )\n",
    "x1 = pulp.LpVariable('x1', lowBound=0, upBound=None, cat=pulp.LpContinuous)\n",
    "x2 = pulp.LpVariable('x2', lowBound=0, upBound=None, cat=pulp.LpContinuous)\n",
    "x3 = pulp.LpVariable('x3', lowBound=None, upBound=None, cat=pulp.LpContinuous)\n",
    "x = [x1,x2,x3]\n",
    "\n",
    "#然后，添加目标函数\n",
    "prob += pulp.lpDot(z, x) \n",
    "\n",
    "#再添加不等式约束条件(让问题 prob 直接加变量的判断式即可添加约束)\n",
    "for i in range(len(A_ub)):\n",
    "    prob += (pulp.lpDot(A_ub[i], x) <= b_ub[i])\n",
    "\n",
    "#再添加等式约束条件(让问题 prob 直接加变量的判断式即可添加约束)\n",
    "for i in range(len(A_eq)):\n",
    "    prob += (pulp.lpDot(A_eq[i], x) == b_eq[i])\n",
    "    \n",
    "#调用solve方法解出答案\n",
    "prob.solve()\n",
    "\n",
    "#\n",
    "print(\"z:\", pulp.value(prob.objective))\n",
    "print(\"x1:\",pulp.value(x1))\n",
    "print(\"x2:\",pulp.value(x2))\n",
    "print(\"x3:\",pulp.value(x3))\n"
   ]
  },
  {
   "cell_type": "code",
   "execution_count": null,
   "metadata": {},
   "outputs": [],
   "source": [
    "# "
   ]
  },
  {
   "cell_type": "markdown",
   "metadata": {},
   "source": [
    "## 藥局訂貨物流線性規劃問題\n",
    "物流有A,B兩家，分別有藥品X,Y,Z 3種,A,B兩家皆有最低出貨金額分別為1000,3000，藥品價格<br>\n",
    "|   | A | B  |\n",
    "|---| --- | --- |\n",
    "|X| 2 | 1 |\n",
    "|Y| 4 | 2 |\n",
    "|Z| 10|11 |"
   ]
  },
  {
   "cell_type": "markdown",
   "metadata": {},
   "source": [
    "$$\n",
    "\\left\\{\n",
    "\\begin{align*}\n",
    "X_A + X_B  < 100 \\\\\n",
    "Y_A + Y_B  < 200 \\\\\n",
    "Z_A+Z_B<500\\\\\n",
    "1000<2X_A + 4Y_A+10Z_A  < 2000\\\\\n",
    "3000<X_B + 2Y_B+11Z_B  < 3500\\\\\n",
    "\\end{align*}\n",
    "\\right.\n",
    "$$\n",
    "\n",
    "$$\n",
    "min(2X_A+X_B+4Y_A+2Y_B+10Z_A+11Z_B)\n",
    "$$"
   ]
  },
  {
   "cell_type": "code",
<<<<<<< HEAD
   "execution_count": 13,
=======
   "execution_count": 75,
>>>>>>> 919f5a3 (add price analysis process for discount research)
   "metadata": {},
   "outputs": [],
   "source": [
    "#目標函數target的係數\n",
    "target = [2,1,4,2,10,11]\n",
    "\n",
    "#不等式限制條件，也要轉化為 ≤的形式\n",
    "A_ub = [[1,1,0,0,0,0],\n",
    "        [0,0,1,1,0,0],\n",
    "        [0,0,0,0,1,1],\n",
    "        [-2,0,-4,0,-10,0],\n",
    "        [2,0,4,0,10,0],     ## 新增條件\n",
    "        [0,-1,0,-2,0,-11],\n",
    "        [0,1,0,2,0,11],     ## 新增條件\n",
    "        [2,1,4,2,10,11]     ## 新增條件\n",
    "\n",
    "        ]\n",
    "b_ub = [100,200,500,-1000,2000,-3000,3500,8000]\n",
    "\n",
    "# #等式約束條件\n",
    "# A_eq = [[-3,1,2]]\n",
    "# b_eq = [5]"
   ]
  },
  {
   "cell_type": "markdown",
   "metadata": {},
   "source": []
  },
  {
   "cell_type": "code",
<<<<<<< HEAD
   "execution_count": 14,
=======
   "execution_count": 76,
>>>>>>> 919f5a3 (add price analysis process for discount research)
   "metadata": {},
   "outputs": [
    {
     "name": "stdout",
     "output_type": "stream",
     "text": [
      "Status: 1\n",
      "target: 4000.0\n",
      "x_A: 10.0\n",
      "x_B: 10.0\n",
      "y_A: 190.0\n",
      "y_B: 10.0\n",
      "z_A: 22.0\n",
      "z_B: 270.0\n"
     ]
    }
   ],
   "source": [
    "#首先，定義一個問題，第一個參數為問題名稱，\n",
    "#第二個參數sense，可決定最佳化的是最大值 pulp.LpMaximize 還是最小值 pulp.LpMinimize\n",
    "model = pulp.LpProblem('problem2', sense=pulp.LpMinimize)\n",
    "\n",
    "\n",
    "#第二，定義變量，pulp.LpVariable(\"變數名\" ,下界 ,上界, cat表示變數類型，\n",
    "# pulp.LpInteger是離散，pulp.LpBinary為二值，pulp.LpContinuous是連續 )\n",
    "x_A = pulp.LpVariable('x_A', lowBound=10, upBound=None, cat=pulp.LpInteger)\n",
    "x_B = pulp.LpVariable('x_B', lowBound=10, upBound=None, cat=pulp.LpInteger)\n",
    "y_A = pulp.LpVariable('y_A', lowBound=10, upBound=None, cat=pulp.LpInteger)\n",
    "y_B = pulp.LpVariable('y_B', lowBound=10, upBound=None, cat=pulp.LpInteger)\n",
    "z_A = pulp.LpVariable('z_A', lowBound=10, upBound=None, cat=pulp.LpInteger)\n",
    "z_B = pulp.LpVariable('z_B', lowBound=10, upBound=None, cat=pulp.LpInteger)\n",
    "variable = [x_A,x_B,y_A,y_B,z_A,z_B]\n",
    "\n",
    "#然後，新增目標函數\n",
    "model += pulp.lpDot(target, variable) \n",
    "\n",
    "#再加入不等式限制條件(讓問題 model 直接加變量的判斷式即可新增限制條件)\n",
    "for i in range(len(A_ub)):\n",
    "    model += (pulp.lpDot(A_ub[i], variable) <= b_ub[i])\n",
    "\n",
    "# #再添加等式约束条件(让问题 prob 直接加变量的判断式即可添加约束)\n",
    "# for i in range(len(A_eq)):\n",
    "#     prob += (pulp.lpDot(A_eq[i], variable) == b_eq[i])\n",
    "    \n",
    "#調用solve方法解出答案\n",
    "model.solve()\n",
    "#\n",
    "print(\"Status:\",model.status)\n",
    "print(\"target:\", pulp.value(model.objective))\n",
    "print(\"x_A:\",pulp.value(x_A))\n",
    "print(\"x_B:\",pulp.value(x_B))\n",
    "print(\"y_A:\",pulp.value(y_A))\n",
    "print(\"y_B:\",pulp.value(y_B))\n",
    "print(\"z_A:\",pulp.value(z_A))\n",
    "print(\"z_B:\",pulp.value(z_B))"
   ]
  },
  {
   "cell_type": "code",
   "execution_count": 15,
   "metadata": {},
   "outputs": [
    {
     "data": {
      "text/plain": [
       "10.0"
      ]
     },
     "execution_count": 15,
     "metadata": {},
     "output_type": "execute_result"
    }
   ],
   "source": [
    "x_A.value()"
   ]
  },
  {
   "cell_type": "code",
   "execution_count": 16,
   "metadata": {},
   "outputs": [
    {
     "data": {
      "text/plain": [
       "4000"
      ]
     },
     "execution_count": 16,
     "metadata": {},
     "output_type": "execute_result"
    }
   ],
   "source": [
    "195*4+2*4+10*22+11*272"
   ]
  },
  {
   "cell_type": "markdown",
   "metadata": {},
   "source": [
    "物流有A,B,C,D兩家，分別有藥品W,X,Y,Z 4種,A,B,C,D兩家皆有最低出貨金額分別為3000,3000,2000,1000，藥品價格<br>\n",
    "|   | A | B  |C|D|\n",
    "|---| --- | --- |---|---|\n",
    "|W|364|364|364|364|\n",
    "|X| 256 | 256 |256|256|\n",
    "|Y| 2 | 2 |3|4|\n",
    "|Z| 2|2 |2|2|"
   ]
  },
  {
   "cell_type": "markdown",
   "metadata": {},
   "source": [
    "$$\n",
    "\\left\\{\n",
    "\\begin{align*}\n",
    "W_A + W_B+W_C+W_D  >= 5 \\\\\n",
    "X_A + X_B+X_C+X_D  >= 7 \\\\\n",
    "Y_A+Y_B+Y_C+Y_D>=112\\\\\n",
    "Z_A+Z_B+Z_C+Z_D>=120\\\\\n",
    "364W_A+256X_A + 2Y_A+2Z_A  > 3000\\\\\n",
    "364W_B+256X_B + 2Y_B+2Z_B  > 3000\\\\\n",
    "364W_C+256X_C + 3Y_C+2Z_C  > 2000\\\\\n",
    "364W_D+256X_D + 4Y_D+2Z_D > 1000\\\\\n",
    "\\end{align*}\n",
    "\\right.\n",
    "$$\n",
    "\n",
    "$$\n",
    "min(2X_A+X_B+4Y_A+2Y_B+10Z_A+11Z_B)\n",
    "$$"
   ]
  },
  {
   "cell_type": "code",
   "execution_count": 17,
   "metadata": {},
   "outputs": [],
   "source": [
    "#目標函數target的係數\n",
    "target = [364,364,364,364,256,256,256,256,2,2,3,4,2,2,2,2]\n",
    "\n",
    "#不等式限制條件，也要轉化為 ≤的形式\n",
    "A_ub = [[-1,-1,-1,-1,0,0,0,0,0,0,0,0,0,0,0,0],\n",
    "        [0,0,0,0,-1,-1,-1,-1,0,0,0,0,0,0,0,0],\n",
    "        [0,0,0,0,0,0,0,0,-1,-1,-1,-1,0,0,0,0],\n",
    "        [0,0,0,0,0,0,0,0,0,0,0,0-1,-1,-1,-1],\n",
    "        [-364,0,0,0,-256,0,0,0,-2,0,0,0,-2,0,0,0],\n",
    "        [0,-364,0,0,0,-256,0,0,0,-2,0,0,0,-2,0,0],\n",
    "        [0,0,-364,0,0,0,-256,0,0,0,-3,0,0,0,-2,0],\n",
    "        [0,0,0,-364,0,0,0,-256,0,0,0,-4,0,0,0,-2],\n",
    "\n",
    "        ]\n",
    "b_ub = [-5,-7,-112,-120,-3000,-3000,-2000,-1000]\n",
    "\n",
    "# #等式约束条件\n",
    "# A_eq = [[-3,1,2]]\n",
    "# b_eq = [5]"
   ]
  },
  {
   "cell_type": "code",
   "execution_count": 10,
   "metadata": {},
   "outputs": [
    {
     "name": "stdout",
     "output_type": "stream",
     "text": [
      "16\n",
      "16\n",
      "16\n",
      "15\n",
      "16\n",
      "16\n",
      "16\n",
      "16\n"
     ]
    }
   ],
   "source": [
    "for i in range(len(A_ub)):\n",
    "    print(len(A_ub[i]))"
   ]
  },
  {
   "cell_type": "code",
   "execution_count": 20,
   "metadata": {},
   "outputs": [
    {
     "name": "stdout",
     "output_type": "stream",
     "text": [
      "target: 9000.0\n",
      "w_A: 0.0\n",
      "w_B: 6.0\n",
      "w_C: 5.0\n",
      "w_D: 0.0\n",
      "x_A: 10.0\n",
      "x_B: 3.0\n",
      "x_C: 0.0\n",
      "x_D: 3.0\n",
      "y_A: 52.0\n",
      "y_B: 0.0\n",
      "y_C: 60.0\n",
      "y_D: 0.0\n",
      "z_A: 168.0\n",
      "z_B: 24.0\n",
      "z_C: 0.0\n",
      "z_D: 116.0\n"
     ]
    }
   ],
   "source": [
    "#首先，定义一个问题，第一个参数为问题名称，\n",
    "#第二个参数sense，可决定优化的是最大值 pulp.LpMaximize 还是最小值 pulp.LpMinimize\n",
    "model = pulp.LpProblem('problem2', sense=pulp.LpMinimize)\n",
    "\n",
    "#第二，定义变量，pulp.LpVariable(\"变量名\" ,下界 ,上界, cat表示变量类型，\n",
    "# pulp.LpInteger是离散，pulp.LpBinary为二值，pulp.LpContinuous是连续 )\n",
    "w_A = pulp.LpVariable('w_A', lowBound=0, upBound=None, cat=pulp.LpInteger)\n",
    "w_B = pulp.LpVariable('w_B', lowBound=0, upBound=None, cat=pulp.LpInteger)\n",
    "w_C = pulp.LpVariable('w_C', lowBound=0, upBound=None, cat=pulp.LpInteger)\n",
    "w_D = pulp.LpVariable('w_D', lowBound=0, upBound=1, cat=pulp.LpInteger)\n",
    "x_A = pulp.LpVariable('x_A', lowBound=0, upBound=None, cat=pulp.LpInteger)\n",
    "x_B = pulp.LpVariable('x_B', lowBound=0, upBound=None, cat=pulp.LpInteger)\n",
    "x_C = pulp.LpVariable('x_C', lowBound=0, upBound=2, cat=pulp.LpInteger)\n",
    "x_D = pulp.LpVariable('x_D', lowBound=0, upBound=None, cat=pulp.LpInteger)\n",
    "y_A = pulp.LpVariable('y_A', lowBound=0, upBound=None, cat=pulp.LpInteger)\n",
    "y_B = pulp.LpVariable('y_B', lowBound=0, upBound=0, cat=pulp.LpInteger)\n",
    "y_C = pulp.LpVariable('y_C', lowBound=0, upBound=None, cat=pulp.LpInteger)\n",
    "y_D = pulp.LpVariable('y_D', lowBound=0, upBound=None, cat=pulp.LpInteger)\n",
    "z_A = pulp.LpVariable('z_A', lowBound=100, upBound=None, cat=pulp.LpInteger)\n",
    "z_B = pulp.LpVariable('z_B', lowBound=0, upBound=None, cat=pulp.LpInteger)\n",
    "z_C = pulp.LpVariable('z_C', lowBound=0, upBound=None, cat=pulp.LpInteger)\n",
    "z_D = pulp.LpVariable('z_D', lowBound=0, upBound=None, cat=pulp.LpInteger)\n",
    "variable = [w_A,w_B,w_C,w_D,x_A,x_B,x_C,x_D,y_A,y_B,y_C,y_D,z_A,z_B,z_C,z_D]\n",
    "\n",
    "#然后，添加目标函数\n",
    "model += pulp.lpDot(target, variable) \n",
    "\n",
    "#再添加不等式约束条件(让问题 prob 直接加变量的判断式即可添加约束)\n",
    "for i in range(len(A_ub)):\n",
    "    model += (pulp.lpDot(A_ub[i], variable) <= b_ub[i])\n",
    "\n",
    "# #再添加等式约束条件(让问题 prob 直接加变量的判断式即可添加约束)\n",
    "# for i in range(len(A_eq)):\n",
    "#     prob += (pulp.lpDot(A_eq[i], variable) == b_eq[i])\n",
    "    \n",
    "#调用solve方法解出答案\n",
    "model.solve()\n",
    "\n",
    "#\n",
    "print(\"target:\", pulp.value(model.objective))\n",
    "print(\"w_A:\",pulp.value(w_A))\n",
    "print(\"w_B:\",pulp.value(w_B))\n",
    "print(\"w_C:\",pulp.value(w_C))\n",
    "print(\"w_D:\",pulp.value(w_D))\n",
    "print(\"x_A:\",pulp.value(x_A))\n",
    "print(\"x_B:\",pulp.value(x_B))\n",
    "print(\"x_C:\",pulp.value(x_C))\n",
    "print(\"x_D:\",pulp.value(x_D))\n",
    "print(\"y_A:\",pulp.value(y_A))\n",
    "print(\"y_B:\",pulp.value(y_B))\n",
    "print(\"y_C:\",pulp.value(y_C))\n",
    "print(\"y_D:\",pulp.value(y_D))\n",
    "print(\"z_A:\",pulp.value(z_A))\n",
    "print(\"z_B:\",pulp.value(z_B))\n",
    "print(\"z_C:\",pulp.value(z_C))\n",
    "print(\"z_D:\",pulp.value(z_D))"
   ]
  },
  {
   "cell_type": "code",
   "execution_count": null,
   "metadata": {},
   "outputs": [],
   "source": []
  }
 ],
 "metadata": {
  "kernelspec": {
   "display_name": "forPractice",
   "language": "python",
   "name": "python3"
  },
  "language_info": {
   "codemirror_mode": {
    "name": "ipython",
    "version": 3
   },
   "file_extension": ".py",
   "mimetype": "text/x-python",
   "name": "python",
   "nbconvert_exporter": "python",
   "pygments_lexer": "ipython3",
   "version": "3.11.3"
  }
 },
 "nbformat": 4,
 "nbformat_minor": 2
}
